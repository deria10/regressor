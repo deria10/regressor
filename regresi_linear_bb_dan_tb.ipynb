{
  "nbformat": 4,
  "nbformat_minor": 0,
  "metadata": {
    "colab": {
      "provenance": []
    },
    "kernelspec": {
      "name": "python3",
      "display_name": "Python 3"
    },
    "language_info": {
      "name": "python"
    }
  },
  "cells": [
    {
      "cell_type": "code",
      "execution_count": null,
      "metadata": {
        "id": "rL0ASzOnM4zu"
      },
      "outputs": [],
      "source": [
        "from scipy import stats"
      ]
    },
    {
      "cell_type": "code",
      "source": [
        "x = [180, 181, 187, 185, 183,189, 188, 187, 182,190]"
      ],
      "metadata": {
        "id": "FVp3pe7HM_x7"
      },
      "execution_count": null,
      "outputs": []
    },
    {
      "cell_type": "code",
      "source": [
        "y = [81,80 , 88, 85, 84, 87, 82, 89, 90, 83]"
      ],
      "metadata": {
        "id": "9FHc5SIPNgOA"
      },
      "execution_count": null,
      "outputs": []
    },
    {
      "cell_type": "code",
      "source": [
        "slope, intercept, r , p, std_err = stats.linregress(x,y)"
      ],
      "metadata": {
        "id": "8u-987gQOwXq"
      },
      "execution_count": null,
      "outputs": []
    },
    {
      "cell_type": "code",
      "source": [
        "def derifunc(x):\n",
        "  return slope * x + intercept"
      ],
      "metadata": {
        "id": "gr0MDwLIOznu"
      },
      "execution_count": null,
      "outputs": []
    },
    {
      "cell_type": "code",
      "source": [
        "bobot_deri = derifunc(187)"
      ],
      "metadata": {
        "id": "TVUGFqJbPMYa"
      },
      "execution_count": null,
      "outputs": []
    },
    {
      "cell_type": "code",
      "source": [
        "print(bobot_deri)"
      ],
      "metadata": {
        "colab": {
          "base_uri": "https://localhost:8080/"
        },
        "id": "mPz6autXPWK2",
        "outputId": "c443e462-893a-4a24-f3f0-43c0c0573b15"
      },
      "execution_count": null,
      "outputs": [
        {
          "output_type": "stream",
          "name": "stdout",
          "text": [
            "85.38709677419357\n"
          ]
        }
      ]
    }
  ]
}